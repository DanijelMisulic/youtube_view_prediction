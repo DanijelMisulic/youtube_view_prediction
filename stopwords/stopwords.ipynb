{
 "cells": [
  {
   "cell_type": "code",
   "execution_count": 1,
   "metadata": {
    "collapsed": true
   },
   "outputs": [],
   "source": [
    "import pandas as pd\n",
    "import numpy as np"
   ]
  },
  {
   "cell_type": "code",
   "execution_count": 2,
   "metadata": {
    "collapsed": true
   },
   "outputs": [],
   "source": [
    "def load_stopwords(file_path):\n",
    "    \"\"\" Loads stopword file, returns a list of words\n",
    "    \"\"\"\n",
    "    df = pd.read_csv(file_path)\n",
    "    stopwords = list(df.values.flatten())\n",
    "    first_word = df.columns[0]\n",
    "    stopwords.append(first_word)\n",
    "    return stopwords"
   ]
  },
  {
   "cell_type": "code",
   "execution_count": 3,
   "metadata": {
    "collapsed": true
   },
   "outputs": [],
   "source": [
    "def transform_letters(word_lst):\n",
    "    return [word.replace(\"æ\",\"ć\").replace(\"ð\", \"đ\").replace(\"è\",\"č\") for word in word_lst] "
   ]
  },
  {
   "cell_type": "markdown",
   "metadata": {},
   "source": [
    "# Problem with letters in Serbian"
   ]
  },
  {
   "cell_type": "code",
   "execution_count": null,
   "metadata": {
    "collapsed": false
   },
   "outputs": [],
   "source": [
    "'biæe'[2]"
   ]
  },
  {
   "cell_type": "code",
   "execution_count": null,
   "metadata": {
    "collapsed": false
   },
   "outputs": [],
   "source": [
    "'izmeðu'[4]"
   ]
  },
  {
   "cell_type": "code",
   "execution_count": null,
   "metadata": {
    "collapsed": false
   },
   "outputs": [],
   "source": [
    "'juèe'[2]"
   ]
  },
  {
   "cell_type": "code",
   "execution_count": null,
   "metadata": {
    "collapsed": false
   },
   "outputs": [],
   "source": [
    "letter_ch = 'juèe'[2]"
   ]
  },
  {
   "cell_type": "code",
   "execution_count": null,
   "metadata": {
    "collapsed": false
   },
   "outputs": [],
   "source": [
    "'juèe'[2] == \"č\""
   ]
  },
  {
   "cell_type": "code",
   "execution_count": null,
   "metadata": {
    "collapsed": false
   },
   "outputs": [],
   "source": [
    "'juèe'[2] == \"c\""
   ]
  },
  {
   "cell_type": "markdown",
   "metadata": {},
   "source": [
    "# Loading stop words"
   ]
  },
  {
   "cell_type": "code",
   "execution_count": 8,
   "metadata": {
    "collapsed": false
   },
   "outputs": [],
   "source": [
    "serbian = load_stopwords(\"serbian\")\n",
    "serbian = transform_letters(serbian)"
   ]
  },
  {
   "cell_type": "code",
   "execution_count": 28,
   "metadata": {
    "collapsed": false
   },
   "outputs": [],
   "source": [
    "croatian = load_stopwords(\"croatian\")\n",
    "croatian = transform_letters(croatian)"
   ]
  },
  {
   "cell_type": "markdown",
   "metadata": {},
   "source": [
    "# Save CSV files"
   ]
  },
  {
   "cell_type": "code",
   "execution_count": 27,
   "metadata": {
    "collapsed": false
   },
   "outputs": [],
   "source": [
    "def save(path, lst, encoding=\"utf-8\"):\n",
    "    return pd.DataFrame(serbian).to_csv(path, index=False, encoding=encoding)"
   ]
  },
  {
   "cell_type": "code",
   "execution_count": 29,
   "metadata": {
    "collapsed": true
   },
   "outputs": [],
   "source": [
    "save(\"serbian_transformed.csv\", serbian)\n",
    "save(\"croatian_transformed.csv\", croatian)"
   ]
  },
  {
   "cell_type": "markdown",
   "metadata": {},
   "source": [
    "# Serbo-Croatian"
   ]
  },
  {
   "cell_type": "code",
   "execution_count": 30,
   "metadata": {
    "collapsed": true
   },
   "outputs": [],
   "source": [
    "serbian_set = set(serbian)\n",
    "croatian_set = set(croatian)\n",
    "serbo_croatian = set.union(serbian_set, croatian_set)"
   ]
  },
  {
   "cell_type": "code",
   "execution_count": 31,
   "metadata": {
    "collapsed": false
   },
   "outputs": [
    {
     "data": {
      "text/plain": [
       "283"
      ]
     },
     "execution_count": 31,
     "metadata": {},
     "output_type": "execute_result"
    }
   ],
   "source": [
    "len(serbo_croatian)"
   ]
  },
  {
   "cell_type": "code",
   "execution_count": 37,
   "metadata": {
    "collapsed": false
   },
   "outputs": [
    {
     "data": {
      "text/plain": [
       "29"
      ]
     },
     "execution_count": 37,
     "metadata": {},
     "output_type": "execute_result"
    }
   ],
   "source": [
    "len(set.intersection(serbian_set, croatian_set)) # lol"
   ]
  },
  {
   "cell_type": "code",
   "execution_count": 33,
   "metadata": {
    "collapsed": false
   },
   "outputs": [
    {
     "data": {
      "text/plain": [
       "{'a',\n",
       " 'ako',\n",
       " 'ali',\n",
       " 'baš',\n",
       " 'bez',\n",
       " 'bi',\n",
       " 'bih',\n",
       " 'bila',\n",
       " 'bili',\n",
       " 'bilo',\n",
       " 'bio',\n",
       " 'bismo',\n",
       " 'biste',\n",
       " 'biti',\n",
       " 'biće',\n",
       " 'blizu',\n",
       " 'broj',\n",
       " 'bumo',\n",
       " 'da',\n",
       " 'dana',\n",
       " 'danas',\n",
       " 'do',\n",
       " 'dobar',\n",
       " 'dobiti',\n",
       " 'dok',\n",
       " 'dole',\n",
       " 'doći',\n",
       " 'došao',\n",
       " 'drugi',\n",
       " 'duž',\n",
       " 'dva',\n",
       " 'ga',\n",
       " 'gde',\n",
       " 'gore',\n",
       " 'hoće',\n",
       " 'hoćemo',\n",
       " 'hoćete',\n",
       " 'hoćeš',\n",
       " 'hoću',\n",
       " 'hvala',\n",
       " 'i',\n",
       " 'iako',\n",
       " 'ide',\n",
       " 'ih',\n",
       " 'ili',\n",
       " 'ima',\n",
       " 'imam',\n",
       " 'imao',\n",
       " 'ispod',\n",
       " 'iz',\n",
       " 'između',\n",
       " 'iznad',\n",
       " 'izvan',\n",
       " 'izvoli',\n",
       " 'ići',\n",
       " 'ja',\n",
       " 'je',\n",
       " 'jedan',\n",
       " 'jedini',\n",
       " 'jedna',\n",
       " 'jedne',\n",
       " 'jedno',\n",
       " 'jednom',\n",
       " 'jer',\n",
       " 'jesam',\n",
       " 'jesi',\n",
       " 'jesmo',\n",
       " 'jest',\n",
       " 'jeste',\n",
       " 'jesu',\n",
       " 'jim',\n",
       " 'joj',\n",
       " 'još',\n",
       " 'ju',\n",
       " 'juče',\n",
       " 'kad',\n",
       " 'kada',\n",
       " 'kako',\n",
       " 'kao',\n",
       " 'koga',\n",
       " 'koja',\n",
       " 'koje',\n",
       " 'koji',\n",
       " 'kojima',\n",
       " 'koju',\n",
       " 'kroz',\n",
       " 'li',\n",
       " 'mali',\n",
       " 'manji',\n",
       " 'me',\n",
       " 'mene',\n",
       " 'meni',\n",
       " 'mi',\n",
       " 'mimo',\n",
       " 'misli',\n",
       " 'mnogo',\n",
       " 'mogu',\n",
       " 'moj',\n",
       " 'moja',\n",
       " 'moje',\n",
       " 'mora',\n",
       " 'morao',\n",
       " 'moći',\n",
       " 'mu',\n",
       " 'na',\n",
       " 'nad',\n",
       " 'nakon',\n",
       " 'nam',\n",
       " 'nama',\n",
       " 'nas',\n",
       " 'naći',\n",
       " 'naš',\n",
       " 'naša',\n",
       " 'naše',\n",
       " 'našeg',\n",
       " 'ne',\n",
       " 'negde',\n",
       " 'nego',\n",
       " 'neka',\n",
       " 'nekad',\n",
       " 'neki',\n",
       " 'nekog',\n",
       " 'neku',\n",
       " 'nema',\n",
       " 'nemam',\n",
       " 'netko',\n",
       " 'neće',\n",
       " 'nećemo',\n",
       " 'nećete',\n",
       " 'nećeš',\n",
       " 'neću',\n",
       " 'nešto',\n",
       " 'ni',\n",
       " 'nije',\n",
       " 'nijedan',\n",
       " 'nikada',\n",
       " 'nikoga',\n",
       " 'nikoje',\n",
       " 'nikoju',\n",
       " 'nisam',\n",
       " 'nisi',\n",
       " 'nismo',\n",
       " 'niste',\n",
       " 'nisu',\n",
       " 'ništa',\n",
       " 'njega',\n",
       " 'njegov',\n",
       " 'njegova',\n",
       " 'njegovo',\n",
       " 'njemu',\n",
       " 'njen',\n",
       " 'njezin',\n",
       " 'njezina',\n",
       " 'njezino',\n",
       " 'njih',\n",
       " 'njihov',\n",
       " 'njihova',\n",
       " 'njihovo',\n",
       " 'njim',\n",
       " 'njima',\n",
       " 'njoj',\n",
       " 'nju',\n",
       " 'no',\n",
       " 'o',\n",
       " 'od',\n",
       " 'odmah',\n",
       " 'oko',\n",
       " 'okolo',\n",
       " 'on',\n",
       " 'ona',\n",
       " 'onaj',\n",
       " 'oni',\n",
       " 'ono',\n",
       " 'osim',\n",
       " 'ostali',\n",
       " 'otišao',\n",
       " 'ova',\n",
       " 'ovako',\n",
       " 'ovamo',\n",
       " 'ovde',\n",
       " 'ove',\n",
       " 'ovo',\n",
       " 'pa',\n",
       " 'pak',\n",
       " 'pitati',\n",
       " 'po',\n",
       " 'pod',\n",
       " 'pojedini',\n",
       " 'pored',\n",
       " 'posle',\n",
       " 'povodom',\n",
       " 'početak',\n",
       " 'praviti',\n",
       " 'pre',\n",
       " 'preko',\n",
       " 'prema',\n",
       " 'prije',\n",
       " 'prvi',\n",
       " 'put',\n",
       " 'radije',\n",
       " 's',\n",
       " 'sa',\n",
       " 'sada',\n",
       " 'sam',\n",
       " 'samo',\n",
       " 'se',\n",
       " 'sebe',\n",
       " 'sebi',\n",
       " 'si',\n",
       " 'smeti',\n",
       " 'smo',\n",
       " 'ste',\n",
       " 'stvar',\n",
       " 'stvarno',\n",
       " 'su',\n",
       " 'sutra',\n",
       " 'svaki',\n",
       " 'sve',\n",
       " 'svi',\n",
       " 'svim',\n",
       " 'svog',\n",
       " 'svoj',\n",
       " 'svoja',\n",
       " 'svoje',\n",
       " 'svom',\n",
       " 'svugde',\n",
       " 'ta',\n",
       " 'tada',\n",
       " 'taj',\n",
       " 'tako',\n",
       " 'takođe',\n",
       " 'tamo',\n",
       " 'tačno',\n",
       " 'te',\n",
       " 'tebe',\n",
       " 'tebi',\n",
       " 'ti',\n",
       " 'tim',\n",
       " 'to',\n",
       " 'toj',\n",
       " 'tome',\n",
       " 'tu',\n",
       " 'tvoj',\n",
       " 'tvoja',\n",
       " 'tvoje',\n",
       " 'u',\n",
       " 'umalo',\n",
       " 'unutra',\n",
       " 'upotrebiti',\n",
       " 'uz',\n",
       " 'uzeti',\n",
       " 'učinio',\n",
       " 'učiniti',\n",
       " 'vam',\n",
       " 'vama',\n",
       " 'vas',\n",
       " 'vaš',\n",
       " 'vaša',\n",
       " 'vaše',\n",
       " 'veoma',\n",
       " 'već',\n",
       " 'većina',\n",
       " 'vi',\n",
       " 'video',\n",
       " 'više',\n",
       " 'vrlo',\n",
       " 'za',\n",
       " 'zahvaliti',\n",
       " 'zar',\n",
       " 'zašto',\n",
       " 'zbog',\n",
       " 'znati',\n",
       " 'će',\n",
       " 'ćemo',\n",
       " 'ćete',\n",
       " 'ćeš',\n",
       " 'ću',\n",
       " 'često',\n",
       " 'čiji',\n",
       " 'šta',\n",
       " 'što',\n",
       " 'želeo',\n",
       " 'želi'}"
      ]
     },
     "execution_count": 33,
     "metadata": {},
     "output_type": "execute_result"
    }
   ],
   "source": [
    "serbo_croatian"
   ]
  },
  {
   "cell_type": "code",
   "execution_count": 39,
   "metadata": {
    "collapsed": false
   },
   "outputs": [],
   "source": [
    "save(\"serbo_croatian.csv\",serbo_croatian)"
   ]
  },
  {
   "cell_type": "code",
   "execution_count": null,
   "metadata": {
    "collapsed": true
   },
   "outputs": [],
   "source": []
  }
 ],
 "metadata": {
  "kernelspec": {
   "display_name": "Python 3",
   "language": "python",
   "name": "python3"
  },
  "language_info": {
   "codemirror_mode": {
    "name": "ipython",
    "version": 3
   },
   "file_extension": ".py",
   "mimetype": "text/x-python",
   "name": "python",
   "nbconvert_exporter": "python",
   "pygments_lexer": "ipython3",
   "version": "3.6.0"
  }
 },
 "nbformat": 4,
 "nbformat_minor": 2
}
