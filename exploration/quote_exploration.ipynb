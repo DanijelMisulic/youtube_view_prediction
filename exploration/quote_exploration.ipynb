{
 "cells": [
  {
   "cell_type": "code",
   "execution_count": 30,
   "metadata": {
    "collapsed": true
   },
   "outputs": [],
   "source": [
    "import pandas as pd\n",
    "import collections\n",
    "from matplotlib import pyplot as plt"
   ]
  },
  {
   "cell_type": "code",
   "execution_count": 31,
   "metadata": {
    "collapsed": true
   },
   "outputs": [],
   "source": [
    "import warnings\n",
    "warnings.filterwarnings(\"ignore\")"
   ]
  },
  {
   "cell_type": "code",
   "execution_count": 2,
   "metadata": {
    "collapsed": true
   },
   "outputs": [],
   "source": [
    "path_data = \"../data/videos_parsed\"\n",
    "path_stopwords = \"../stopwords/serbo_croatian.csv\""
   ]
  },
  {
   "cell_type": "markdown",
   "metadata": {},
   "source": [
    "# Loading data"
   ]
  },
  {
   "cell_type": "code",
   "execution_count": 3,
   "metadata": {
    "collapsed": true
   },
   "outputs": [],
   "source": [
    "def load_stopwords(file_path):\n",
    "    \"\"\" Loads stopword file, returns a list of words\n",
    "    \"\"\"\n",
    "    df = pd.read_csv(file_path)\n",
    "    stopwords = list(df.values.flatten())\n",
    "    first_word = df.columns[0]\n",
    "    stopwords.append(first_word)\n",
    "    return stopwords"
   ]
  },
  {
   "cell_type": "code",
   "execution_count": 4,
   "metadata": {
    "collapsed": true
   },
   "outputs": [],
   "source": [
    "data = pd.read_pickle(path_data)"
   ]
  },
  {
   "cell_type": "code",
   "execution_count": 5,
   "metadata": {
    "collapsed": false
   },
   "outputs": [],
   "source": [
    "stopwords = load_stopwords(path_stopwords)"
   ]
  },
  {
   "cell_type": "markdown",
   "metadata": {},
   "source": [
    "# Filtering stop words"
   ]
  },
  {
   "cell_type": "code",
   "execution_count": 6,
   "metadata": {
    "collapsed": false
   },
   "outputs": [],
   "source": [
    "MISSING_STOPWORDS = [\"i\", \"da\", \"je\",\"u\", \"su\", \"na\", \"se\", \"za\", \"ne\",\n",
    "                     \"će\", \"od\", \"sam\", \"iz\", \"samo\", \"sa\", \"mi\", \"o\", \"jer\", \"do\",\n",
    "                    \"ali\",\"ako\",\"do\",\"što\",\"bili\",\"bi\",\"treba\", \"smo\", \"nama\", \"nam\",\n",
    "                     \"a\", \"me\", \"to\", \"sebe\", \"svi\", \"deo\", \"nema\", \"čeka\", \"svih\",\n",
    "                    \"neće\", \"našu\", \"iza\", \"ceo\", \"širom\", \"naši\", \"naša\", \"među\", \n",
    "                    \"celu\",\"ga\", \"uz\", \"bila\", \"gori\", \"već\", \"niko\", \"sme\", \"pred\", \"mu\",\n",
    "                   \"ću\", \"pa\", \"po\", \"bilo\", \"moji\", \"našeg\", \"bih\", \"ni\", \"ili\", \"tu\", \"ovu\"]\n"
   ]
  },
  {
   "cell_type": "code",
   "execution_count": 7,
   "metadata": {
    "collapsed": false
   },
   "outputs": [
    {
     "data": {
      "text/html": [
       "<div>\n",
       "<style>\n",
       "    .dataframe thead tr:only-child th {\n",
       "        text-align: right;\n",
       "    }\n",
       "\n",
       "    .dataframe thead th {\n",
       "        text-align: left;\n",
       "    }\n",
       "\n",
       "    .dataframe tbody tr th {\n",
       "        vertical-align: top;\n",
       "    }\n",
       "</style>\n",
       "<table border=\"1\" class=\"dataframe\">\n",
       "  <thead>\n",
       "    <tr style=\"text-align: right;\">\n",
       "      <th></th>\n",
       "      <th>title</th>\n",
       "      <th>published</th>\n",
       "      <th>tags</th>\n",
       "      <th>comments</th>\n",
       "      <th>likes</th>\n",
       "      <th>dislikes</th>\n",
       "      <th>favourites</th>\n",
       "      <th>views</th>\n",
       "      <th>guest_name</th>\n",
       "      <th>quote</th>\n",
       "      <th>tokens</th>\n",
       "      <th>2_gram</th>\n",
       "      <th>3_gram</th>\n",
       "      <th>page_name</th>\n",
       "    </tr>\n",
       "  </thead>\n",
       "  <tbody>\n",
       "    <tr>\n",
       "      <th>0</th>\n",
       "      <td>INTERVJU: Džon Bosnić - Globalističko carstvo ...</td>\n",
       "      <td>2018-03-06</td>\n",
       "      <td>[Balkan Info Intervju, Balkan Info, Балкан Инф...</td>\n",
       "      <td>194</td>\n",
       "      <td>527</td>\n",
       "      <td>24</td>\n",
       "      <td>0</td>\n",
       "      <td>13933</td>\n",
       "      <td>Džon Bosnić</td>\n",
       "      <td>Globalističko carstvo Amerike se sve više bliž...</td>\n",
       "      <td>[globalističko, carstvo, amerike, se, sve, viš...</td>\n",
       "      <td>[globalističko carstvo, carstvo amerike, ameri...</td>\n",
       "      <td>[globalističko carstvo amerike, carstvo amerik...</td>\n",
       "      <td>Džon_Bosnić</td>\n",
       "    </tr>\n",
       "    <tr>\n",
       "      <th>1</th>\n",
       "      <td>INTERVJU: Momir Bulatović - Istorija će suditi...</td>\n",
       "      <td>2018-03-05</td>\n",
       "      <td>[Balkan Info Intervju, Balkan Info, Балкан Инф...</td>\n",
       "      <td>271</td>\n",
       "      <td>658</td>\n",
       "      <td>105</td>\n",
       "      <td>0</td>\n",
       "      <td>38904</td>\n",
       "      <td>Momir Bulatović</td>\n",
       "      <td>Istorija će suditi Milu Đukanoviću zbog njegov...</td>\n",
       "      <td>[istorija, će, suditi, milu, đukanoviću, zbog,...</td>\n",
       "      <td>[istorija će, će suditi, suditi milu, milu đuk...</td>\n",
       "      <td>[istorija će suditi, će suditi milu, suditi mi...</td>\n",
       "      <td>Momir_Bulatović</td>\n",
       "    </tr>\n",
       "  </tbody>\n",
       "</table>\n",
       "</div>"
      ],
      "text/plain": [
       "                                               title  published  \\\n",
       "0  INTERVJU: Džon Bosnić - Globalističko carstvo ... 2018-03-06   \n",
       "1  INTERVJU: Momir Bulatović - Istorija će suditi... 2018-03-05   \n",
       "\n",
       "                                                tags comments likes dislikes  \\\n",
       "0  [Balkan Info Intervju, Balkan Info, Балкан Инф...      194   527       24   \n",
       "1  [Balkan Info Intervju, Balkan Info, Балкан Инф...      271   658      105   \n",
       "\n",
       "  favourites  views       guest_name  \\\n",
       "0          0  13933      Džon Bosnić   \n",
       "1          0  38904  Momir Bulatović   \n",
       "\n",
       "                                               quote  \\\n",
       "0  Globalističko carstvo Amerike se sve više bliž...   \n",
       "1  Istorija će suditi Milu Đukanoviću zbog njegov...   \n",
       "\n",
       "                                              tokens  \\\n",
       "0  [globalističko, carstvo, amerike, se, sve, viš...   \n",
       "1  [istorija, će, suditi, milu, đukanoviću, zbog,...   \n",
       "\n",
       "                                              2_gram  \\\n",
       "0  [globalističko carstvo, carstvo amerike, ameri...   \n",
       "1  [istorija će, će suditi, suditi milu, milu đuk...   \n",
       "\n",
       "                                              3_gram        page_name  \n",
       "0  [globalističko carstvo amerike, carstvo amerik...      Džon_Bosnić  \n",
       "1  [istorija će suditi, će suditi milu, suditi mi...  Momir_Bulatović  "
      ]
     },
     "execution_count": 7,
     "metadata": {},
     "output_type": "execute_result"
    }
   ],
   "source": [
    "data.head(2)"
   ]
  },
  {
   "cell_type": "code",
   "execution_count": 8,
   "metadata": {
    "collapsed": false
   },
   "outputs": [
    {
     "name": "stdout",
     "output_type": "stream",
     "text": [
      "Number of words used: 4344\n"
     ]
    }
   ],
   "source": [
    "all_words = sum(data.tokens.values, [])\n",
    "print(\"Number of words used:\", len(all_words))"
   ]
  },
  {
   "cell_type": "code",
   "execution_count": 9,
   "metadata": {
    "collapsed": false
   },
   "outputs": [
    {
     "name": "stdout",
     "output_type": "stream",
     "text": [
      "Number of unique words used: 1750\n"
     ]
    }
   ],
   "source": [
    "unique_words = set(all_words)\n",
    "print(\"Number of unique words used:\", len(unique_words))"
   ]
  },
  {
   "cell_type": "code",
   "execution_count": 10,
   "metadata": {
    "collapsed": true
   },
   "outputs": [],
   "source": [
    "stopwords = stopwords + MISSING_STOPWORDS"
   ]
  },
  {
   "cell_type": "code",
   "execution_count": 11,
   "metadata": {
    "collapsed": true
   },
   "outputs": [],
   "source": [
    "def remove_stopwords(words, stopwords):\n",
    "    \"\"\" Returns a lsit of 'informative' words\n",
    "    \"\"\"\n",
    "    new_words = []\n",
    "    for word in words:\n",
    "        if word not in stopwords:\n",
    "            new_words.append(word)\n",
    "    return new_words"
   ]
  },
  {
   "cell_type": "code",
   "execution_count": 12,
   "metadata": {
    "collapsed": true
   },
   "outputs": [],
   "source": [
    "words = remove_stopwords(all_words, stopwords)"
   ]
  },
  {
   "cell_type": "code",
   "execution_count": 13,
   "metadata": {
    "collapsed": false
   },
   "outputs": [
    {
     "name": "stdout",
     "output_type": "stream",
     "text": [
      "Number of all words after removing stopwords: 2878\n"
     ]
    }
   ],
   "source": [
    "print(\"Number of all words after removing stopwords:\", len(words))"
   ]
  },
  {
   "cell_type": "code",
   "execution_count": 14,
   "metadata": {
    "collapsed": false
   },
   "outputs": [
    {
     "name": "stdout",
     "output_type": "stream",
     "text": [
      "Number of all unique after removing stopwords: 1631\n"
     ]
    }
   ],
   "source": [
    "print(\"Number of all unique after removing stopwords:\", len(set(words)))"
   ]
  },
  {
   "cell_type": "markdown",
   "metadata": {},
   "source": [
    "# Most frequent words "
   ]
  },
  {
   "cell_type": "code",
   "execution_count": 1,
   "metadata": {
    "collapsed": true
   },
   "outputs": [],
   "source": [
    "def distribution_plot(frequencies, x_label, y_label, title, scale_x=\"linear\", scale_y=\"linear\"):\n",
    "    plt.plot(frequencies)\n",
    "    plt.yscale(scale_y)\n",
    "    plt.xscale(scale_x)\n",
    "    plt.xlabel(x_label)\n",
    "    plt.ylabel(y_label)\n",
    "    plt.title(title)\n",
    "    plt.show()"
   ]
  },
  {
   "cell_type": "code",
   "execution_count": 15,
   "metadata": {
    "collapsed": false
   },
   "outputs": [],
   "source": [
    "counter = collections.Counter(words)"
   ]
  },
  {
   "cell_type": "code",
   "execution_count": 28,
   "metadata": {
    "collapsed": false
   },
   "outputs": [],
   "source": [
    "word_frequency = counter.most_common()"
   ]
  },
  {
   "cell_type": "code",
   "execution_count": 33,
   "metadata": {
    "collapsed": true
   },
   "outputs": [],
   "source": [
    "frequencies_ordered = pd.DataFrame(word_frequency)[1].values"
   ]
  },
  {
   "cell_type": "code",
   "execution_count": 57,
   "metadata": {
    "collapsed": false
   },
   "outputs": [
    {
     "data": {
      "text/plain": [
       "count    1631.000000\n",
       "mean        1.764562\n",
       "std         2.757432\n",
       "min         1.000000\n",
       "25%         1.000000\n",
       "50%         1.000000\n",
       "75%         2.000000\n",
       "max        73.000000\n",
       "Name: 1, dtype: float64"
      ]
     },
     "execution_count": 57,
     "metadata": {},
     "output_type": "execute_result"
    }
   ],
   "source": [
    "pd.DataFrame(word_frequency)[1].describe()"
   ]
  },
  {
   "cell_type": "code",
   "execution_count": 50,
   "metadata": {
    "collapsed": false
   },
   "outputs": [
    {
     "data": {
      "image/png": "[encoded data removed]",
      "text/plain": [
       "<matplotlib.figure.Figure at 0x24a343a0908>"
      ]
     },
     "metadata": {},
     "output_type": "display_data"
    }
   ],
   "source": [
    "distribution_plot(frequencies_ordered, \"count\", \"frequency\", \"Distribution\")"
   ]
  },
  {
   "cell_type": "code",
   "execution_count": 51,
   "metadata": {
    "collapsed": false
   },
   "outputs": [
    {
     "data": {
      "image/png": "[encoded data removed]",
      "text/plain": [
       "<matplotlib.figure.Figure at 0x24a357a6da0>"
      ]
     },
     "metadata": {},
     "output_type": "display_data"
    }
   ],
   "source": [
    "distribution_plot(frequencies_ordered, \"count\", \"frequency\", \"Distribution log log\", scale_y=\"log\")"
   ]
  },
  {
   "cell_type": "code",
   "execution_count": 52,
   "metadata": {
    "collapsed": false
   },
   "outputs": [
    {
     "data": {
      "image/png": "[encoded data removed]",
      "text/plain": [
       "<matplotlib.figure.Figure at 0x24a358354a8>"
      ]
     },
     "metadata": {},
     "output_type": "display_data"
    }
   ],
   "source": [
    "distribution_plot(frequencies_ordered, \"count\", \"frequency\", \"Distribution log log\", scale_x=\"log\", scale_y=\"log\")"
   ]
  },
  {
   "cell_type": "code",
   "execution_count": 59,
   "metadata": {
    "collapsed": false
   },
   "outputs": [
    {
     "data": {
      "image/png": "[encoded data removed]",
      "text/plain": [
       "<matplotlib.figure.Figure at 0x24a3541a9e8>"
      ]
     },
     "metadata": {},
     "output_type": "display_data"
    }
   ],
   "source": [
    "plt.boxplot(frequencies_ordered,showfliers=False, vert=False)\n",
    "plt.show()"
   ]
  },
  {
   "cell_type": "code",
   "execution_count": 23,
   "metadata": {
    "collapsed": false
   },
   "outputs": [],
   "source": [
    "top50 = counter.most_common(50)"
   ]
  },
  {
   "cell_type": "code",
   "execution_count": 90,
   "metadata": {
    "collapsed": true
   },
   "outputs": [],
   "source": [
    "top10 = counter.most_common(10)"
   ]
  },
  {
   "cell_type": "code",
   "execution_count": 104,
   "metadata": {
    "collapsed": false
   },
   "outputs": [],
   "source": [
    "def plot_top_x(top_x,title):\n",
    "    df = pd.DataFrame(top_x)\n",
    "    df.index = df[0].values\n",
    "    df.plot(kind=\"bar\", title=title)\n",
    "# top10.plot(kind='bar', title=\"Top 10 locations\")\n",
    "#     plt.figure(figsize=(30, 26))\n",
    "    plt.ylabel('Frequency')\n",
    "    plt.xlabel('Term')\n",
    "#     plt.legend().set_visible(False)\n",
    "    plt.show()"
   ]
  },
  {
   "cell_type": "code",
   "execution_count": 105,
   "metadata": {
    "collapsed": false
   },
   "outputs": [
    {
     "data": {
      "image/png": "[encoded data removed]",
      "text/plain": [
       "<matplotlib.figure.Figure at 0x24a357ff978>"
      ]
     },
     "metadata": {},
     "output_type": "display_data"
    }
   ],
   "source": [
    "plot_top_x(top10, \"Top 10 terms\")"
   ]
  },
  {
   "cell_type": "code",
   "execution_count": null,
   "metadata": {
    "collapsed": true
   },
   "outputs": [],
   "source": []
  }
 ],
 "metadata": {
  "kernelspec": {
   "display_name": "Python 3",
   "language": "python",
   "name": "python3"
  },
  "language_info": {
   "codemirror_mode": {
    "name": "ipython",
    "version": 3
   },
   "file_extension": ".py",
   "mimetype": "text/x-python",
   "name": "python",
   "nbconvert_exporter": "python",
   "pygments_lexer": "ipython3",
   "version": "3.6.0"
  }
 },
 "nbformat": 4,
 "nbformat_minor": 2
}
