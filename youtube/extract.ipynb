{
 "cells": [
  {
   "cell_type": "code",
   "execution_count": 33,
   "metadata": {
    "collapsed": true
   },
   "outputs": [],
   "source": [
    "import pandas as pd \n",
    "import string\n",
    "import numpy as np\n",
    "# import collections"
   ]
  },
  {
   "cell_type": "code",
   "execution_count": 2,
   "metadata": {
    "collapsed": true
   },
   "outputs": [],
   "source": [
    "data = pd.read_pickle(\"../data/videos_fetched\")"
   ]
  },
  {
   "cell_type": "code",
   "execution_count": 3,
   "metadata": {
    "collapsed": false
   },
   "outputs": [
    {
     "data": {
      "text/html": [
       "<div>\n",
       "<style>\n",
       "    .dataframe thead tr:only-child th {\n",
       "        text-align: right;\n",
       "    }\n",
       "\n",
       "    .dataframe thead th {\n",
       "        text-align: left;\n",
       "    }\n",
       "\n",
       "    .dataframe tbody tr th {\n",
       "        vertical-align: top;\n",
       "    }\n",
       "</style>\n",
       "<table border=\"1\" class=\"dataframe\">\n",
       "  <thead>\n",
       "    <tr style=\"text-align: right;\">\n",
       "      <th></th>\n",
       "      <th>title</th>\n",
       "      <th>published</th>\n",
       "      <th>tags</th>\n",
       "      <th>comments</th>\n",
       "      <th>likes</th>\n",
       "      <th>dislikes</th>\n",
       "      <th>favourites</th>\n",
       "      <th>views</th>\n",
       "    </tr>\n",
       "  </thead>\n",
       "  <tbody>\n",
       "    <tr>\n",
       "      <th>0</th>\n",
       "      <td>INTERVJU: Džon Bosnić - Globalističko carstvo ...</td>\n",
       "      <td>2018-03-06</td>\n",
       "      <td>[Balkan Info Intervju, Balkan Info, Балкан Инф...</td>\n",
       "      <td>194</td>\n",
       "      <td>527</td>\n",
       "      <td>24</td>\n",
       "      <td>0</td>\n",
       "      <td>13933</td>\n",
       "    </tr>\n",
       "    <tr>\n",
       "      <th>1</th>\n",
       "      <td>INTERVJU: Momir Bulatović - Istorija će suditi...</td>\n",
       "      <td>2018-03-05</td>\n",
       "      <td>[Balkan Info Intervju, Balkan Info, Балкан Инф...</td>\n",
       "      <td>271</td>\n",
       "      <td>658</td>\n",
       "      <td>105</td>\n",
       "      <td>0</td>\n",
       "      <td>38904</td>\n",
       "    </tr>\n",
       "    <tr>\n",
       "      <th>2</th>\n",
       "      <td>INTERVJU: Kaplan Burović - Mnogi su hteli da m...</td>\n",
       "      <td>2018-03-04</td>\n",
       "      <td>[Balkan Info Intervju, Balkan Info, Балкан Инф...</td>\n",
       "      <td>208</td>\n",
       "      <td>680</td>\n",
       "      <td>39</td>\n",
       "      <td>0</td>\n",
       "      <td>40196</td>\n",
       "    </tr>\n",
       "    <tr>\n",
       "      <th>3</th>\n",
       "      <td>INTERVJU: Slavko Nikić - Veterani neće ćutati ...</td>\n",
       "      <td>2018-03-03</td>\n",
       "      <td>[Balkan Info Intervju, Balkan Info, Балкан Инф...</td>\n",
       "      <td>307</td>\n",
       "      <td>660</td>\n",
       "      <td>69</td>\n",
       "      <td>0</td>\n",
       "      <td>32843</td>\n",
       "    </tr>\n",
       "    <tr>\n",
       "      <th>4</th>\n",
       "      <td>INTERVJU: Miroslav Lazanski - Srbija mora da s...</td>\n",
       "      <td>2018-03-02</td>\n",
       "      <td>[Balkan Info Intervju, Balkan Info, Балкан Инф...</td>\n",
       "      <td>334</td>\n",
       "      <td>765</td>\n",
       "      <td>395</td>\n",
       "      <td>0</td>\n",
       "      <td>51061</td>\n",
       "    </tr>\n",
       "  </tbody>\n",
       "</table>\n",
       "</div>"
      ],
      "text/plain": [
       "                                               title  published  \\\n",
       "0  INTERVJU: Džon Bosnić - Globalističko carstvo ... 2018-03-06   \n",
       "1  INTERVJU: Momir Bulatović - Istorija će suditi... 2018-03-05   \n",
       "2  INTERVJU: Kaplan Burović - Mnogi su hteli da m... 2018-03-04   \n",
       "3  INTERVJU: Slavko Nikić - Veterani neće ćutati ... 2018-03-03   \n",
       "4  INTERVJU: Miroslav Lazanski - Srbija mora da s... 2018-03-02   \n",
       "\n",
       "                                                tags comments likes dislikes  \\\n",
       "0  [Balkan Info Intervju, Balkan Info, Балкан Инф...      194   527       24   \n",
       "1  [Balkan Info Intervju, Balkan Info, Балкан Инф...      271   658      105   \n",
       "2  [Balkan Info Intervju, Balkan Info, Балкан Инф...      208   680       39   \n",
       "3  [Balkan Info Intervju, Balkan Info, Балкан Инф...      307   660       69   \n",
       "4  [Balkan Info Intervju, Balkan Info, Балкан Инф...      334   765      395   \n",
       "\n",
       "  favourites  views  \n",
       "0          0  13933  \n",
       "1          0  38904  \n",
       "2          0  40196  \n",
       "3          0  32843  \n",
       "4          0  51061  "
      ]
     },
     "execution_count": 3,
     "metadata": {},
     "output_type": "execute_result"
    }
   ],
   "source": [
    "data.head()"
   ]
  },
  {
   "cell_type": "code",
   "execution_count": 4,
   "metadata": {
    "collapsed": false
   },
   "outputs": [
    {
     "data": {
      "text/plain": [
       "'Džon Bosnić'"
      ]
     },
     "execution_count": 4,
     "metadata": {},
     "output_type": "execute_result"
    }
   ],
   "source": [
    "data[\"title\"][0].split(\" - \")[0].split(\": \")[1]"
   ]
  },
  {
   "cell_type": "code",
   "execution_count": 5,
   "metadata": {
    "collapsed": true
   },
   "outputs": [],
   "source": [
    "def get_guest(title):\n",
    "    \"\"\" Extracts guest name from title\n",
    "    \"\"\"\n",
    "    return title.split(\" - \")[0].split(\": \")[1]"
   ]
  },
  {
   "cell_type": "code",
   "execution_count": 6,
   "metadata": {
    "collapsed": true
   },
   "outputs": [],
   "source": [
    "def add_guest(df):\n",
    "    \"\"\" Adds guest column and fills it with guest names\n",
    "    \"\"\"\n",
    "    df[\"guest_name\"] = df.title.apply(lambda x: get_guest(x))\n",
    "    return df"
   ]
  },
  {
   "cell_type": "code",
   "execution_count": 7,
   "metadata": {
    "collapsed": false
   },
   "outputs": [],
   "source": [
    "# data"
   ]
  },
  {
   "cell_type": "code",
   "execution_count": 8,
   "metadata": {
    "collapsed": false
   },
   "outputs": [],
   "source": [
    "# data[\"title\"][474].split(\" - \")[1].split(\" \")[:-1]"
   ]
  },
  {
   "cell_type": "code",
   "execution_count": 9,
   "metadata": {
    "collapsed": false
   },
   "outputs": [],
   "source": [
    "def remove_punctuation(translator, token):\n",
    "    \"\"\" Removes punctuation from tokens\n",
    "    \"\"\"\n",
    "    return token.translate(translator)\n"
   ]
  },
  {
   "cell_type": "code",
   "execution_count": 10,
   "metadata": {
    "collapsed": true
   },
   "outputs": [],
   "source": [
    "def tokenize(title):\n",
    "    \"\"\" Returns tokens from quote in title\n",
    "    \"\"\"\n",
    "    translator = str.maketrans('', '', string.punctuation)\n",
    "    tokens = title.split(\" \")\n",
    "    return [remove_punctuation(translator, token).lower() for token in tokens]"
   ]
  },
  {
   "cell_type": "code",
   "execution_count": 11,
   "metadata": {
    "collapsed": false
   },
   "outputs": [],
   "source": [
    "def get_quote(title):\n",
    "    \"\"\" Returns quote from title\n",
    "    \"\"\"\n",
    "#     print(title)\n",
    "    try:\n",
    "        quote = \" \".join(title.split(\" - \")[1].split(\" \")[:-1])\n",
    "    except:\n",
    "        print(title)\n",
    "        quote = \"No\"\n",
    "    return quote"
   ]
  },
  {
   "cell_type": "code",
   "execution_count": 12,
   "metadata": {
    "collapsed": false
   },
   "outputs": [],
   "source": [
    "# get_quote(data[\"title\"][474])"
   ]
  },
  {
   "cell_type": "code",
   "execution_count": 13,
   "metadata": {
    "collapsed": false
   },
   "outputs": [],
   "source": [
    "def find_ngrams(input_list, n):\n",
    "    \"\"\" Returns itterable with n-gram touples\n",
    "    \"\"\"\n",
    "    return zip(*[input_list[i:] for i in range(n)])\n",
    "\n",
    "def get_ngrams(title,n):\n",
    "    \"\"\" Returns ngram lst\n",
    "    \"\"\"\n",
    "    tokens = tokenize(title)\n",
    "    lst = [\" \".join(list(x)) for x in find_ngrams(tokens, n)]\n",
    "    return lst"
   ]
  },
  {
   "cell_type": "code",
   "execution_count": 14,
   "metadata": {
    "collapsed": false
   },
   "outputs": [],
   "source": [
    "# get_ngrams(data[\"title\"][474], 3)"
   ]
  },
  {
   "cell_type": "code",
   "execution_count": 15,
   "metadata": {
    "collapsed": true
   },
   "outputs": [],
   "source": [
    "def add_quote(data):\n",
    "    \"\"\" Adds quote column\n",
    "    \"\"\"\n",
    "    data[\"quote\"] = data.title.apply(lambda x: get_quote(x))\n",
    "    return data"
   ]
  },
  {
   "cell_type": "code",
   "execution_count": 16,
   "metadata": {
    "collapsed": true
   },
   "outputs": [],
   "source": [
    "def add_tokens(df):\n",
    "    \"\"\" Adds column with tokenized and lowercased quote \n",
    "    \"\"\"\n",
    "    df[\"tokens\"] = df[\"quote\"].apply(lambda x: tokenize(x))\n",
    "    return df"
   ]
  },
  {
   "cell_type": "code",
   "execution_count": 17,
   "metadata": {
    "collapsed": true
   },
   "outputs": [],
   "source": [
    "def add_ngram(df, n):\n",
    "    \"\"\" Add column with n gram\n",
    "    \"\"\"\n",
    "    df[\"{}_gram\".format(n)] = df[\"quote\"].apply(lambda x: get_ngrams(x, n))\n",
    "    return df"
   ]
  },
  {
   "cell_type": "code",
   "execution_count": 18,
   "metadata": {
    "collapsed": false
   },
   "outputs": [],
   "source": [
    "def add_page_name(df):\n",
    "    \"\"\" Takes name and converts it to a format suitable for wikipedia pages\n",
    "    \"\"\"\n",
    "    df[\"page_name\"] = df[\"guest_name\"].apply(lambda x: x.replace(\" \", \"_\"))\n",
    "    return df"
   ]
  },
  {
   "cell_type": "code",
   "execution_count": 19,
   "metadata": {
    "collapsed": false
   },
   "outputs": [],
   "source": [
    "data = add_guest(data)"
   ]
  },
  {
   "cell_type": "code",
   "execution_count": 20,
   "metadata": {
    "collapsed": false
   },
   "outputs": [
    {
     "name": "stdout",
     "output_type": "stream",
     "text": [
      "INTERVJU: Miroljub Petrović razgovara sa bivšim homoseksualcem o njegovim iskustvima! (03.06.2017)\n"
     ]
    }
   ],
   "source": [
    "data = add_quote(data)"
   ]
  },
  {
   "cell_type": "code",
   "execution_count": 21,
   "metadata": {
    "collapsed": false
   },
   "outputs": [],
   "source": [
    "data = data[data[\"quote\"] != \"No\"]"
   ]
  },
  {
   "cell_type": "code",
   "execution_count": 22,
   "metadata": {
    "collapsed": false
   },
   "outputs": [],
   "source": [
    "data = add_tokens(data)"
   ]
  },
  {
   "cell_type": "code",
   "execution_count": 23,
   "metadata": {
    "collapsed": true
   },
   "outputs": [],
   "source": [
    "data = add_ngram(data, 2)"
   ]
  },
  {
   "cell_type": "code",
   "execution_count": 24,
   "metadata": {
    "collapsed": false
   },
   "outputs": [],
   "source": [
    "data = add_ngram(data, 3)"
   ]
  },
  {
   "cell_type": "code",
   "execution_count": 25,
   "metadata": {
    "collapsed": true
   },
   "outputs": [],
   "source": [
    "data = add_page_name(data)"
   ]
  },
  {
   "cell_type": "code",
   "execution_count": 26,
   "metadata": {
    "collapsed": false
   },
   "outputs": [
    {
     "data": {
      "text/html": [
       "<div>\n",
       "<style>\n",
       "    .dataframe thead tr:only-child th {\n",
       "        text-align: right;\n",
       "    }\n",
       "\n",
       "    .dataframe thead th {\n",
       "        text-align: left;\n",
       "    }\n",
       "\n",
       "    .dataframe tbody tr th {\n",
       "        vertical-align: top;\n",
       "    }\n",
       "</style>\n",
       "<table border=\"1\" class=\"dataframe\">\n",
       "  <thead>\n",
       "    <tr style=\"text-align: right;\">\n",
       "      <th></th>\n",
       "      <th>title</th>\n",
       "      <th>published</th>\n",
       "      <th>tags</th>\n",
       "      <th>comments</th>\n",
       "      <th>likes</th>\n",
       "      <th>dislikes</th>\n",
       "      <th>favourites</th>\n",
       "      <th>views</th>\n",
       "      <th>guest_name</th>\n",
       "      <th>quote</th>\n",
       "      <th>tokens</th>\n",
       "      <th>2_gram</th>\n",
       "      <th>3_gram</th>\n",
       "      <th>page_name</th>\n",
       "    </tr>\n",
       "  </thead>\n",
       "  <tbody>\n",
       "    <tr>\n",
       "      <th>0</th>\n",
       "      <td>INTERVJU: Džon Bosnić - Globalističko carstvo ...</td>\n",
       "      <td>2018-03-06</td>\n",
       "      <td>[Balkan Info Intervju, Balkan Info, Балкан Инф...</td>\n",
       "      <td>194</td>\n",
       "      <td>527</td>\n",
       "      <td>24</td>\n",
       "      <td>0</td>\n",
       "      <td>13933</td>\n",
       "      <td>Džon Bosnić</td>\n",
       "      <td>Globalističko carstvo Amerike se sve više bliž...</td>\n",
       "      <td>[globalističko, carstvo, amerike, se, sve, viš...</td>\n",
       "      <td>[globalističko carstvo, carstvo amerike, ameri...</td>\n",
       "      <td>[globalističko carstvo amerike, carstvo amerik...</td>\n",
       "      <td>Džon_Bosnić</td>\n",
       "    </tr>\n",
       "    <tr>\n",
       "      <th>1</th>\n",
       "      <td>INTERVJU: Momir Bulatović - Istorija će suditi...</td>\n",
       "      <td>2018-03-05</td>\n",
       "      <td>[Balkan Info Intervju, Balkan Info, Балкан Инф...</td>\n",
       "      <td>271</td>\n",
       "      <td>658</td>\n",
       "      <td>105</td>\n",
       "      <td>0</td>\n",
       "      <td>38904</td>\n",
       "      <td>Momir Bulatović</td>\n",
       "      <td>Istorija će suditi Milu Đukanoviću zbog njegov...</td>\n",
       "      <td>[istorija, će, suditi, milu, đukanoviću, zbog,...</td>\n",
       "      <td>[istorija će, će suditi, suditi milu, milu đuk...</td>\n",
       "      <td>[istorija će suditi, će suditi milu, suditi mi...</td>\n",
       "      <td>Momir_Bulatović</td>\n",
       "    </tr>\n",
       "    <tr>\n",
       "      <th>2</th>\n",
       "      <td>INTERVJU: Kaplan Burović - Mnogi su hteli da m...</td>\n",
       "      <td>2018-03-04</td>\n",
       "      <td>[Balkan Info Intervju, Balkan Info, Балкан Инф...</td>\n",
       "      <td>208</td>\n",
       "      <td>680</td>\n",
       "      <td>39</td>\n",
       "      <td>0</td>\n",
       "      <td>40196</td>\n",
       "      <td>Kaplan Burović</td>\n",
       "      <td>Mnogi su hteli da me likvidiraju zato što sam ...</td>\n",
       "      <td>[mnogi, su, hteli, da, me, likvidiraju, zato, ...</td>\n",
       "      <td>[mnogi su, su hteli, hteli da, da me, me likvi...</td>\n",
       "      <td>[mnogi su hteli, su hteli da, hteli da me, da ...</td>\n",
       "      <td>Kaplan_Burović</td>\n",
       "    </tr>\n",
       "    <tr>\n",
       "      <th>3</th>\n",
       "      <td>INTERVJU: Slavko Nikić - Veterani neće ćutati ...</td>\n",
       "      <td>2018-03-03</td>\n",
       "      <td>[Balkan Info Intervju, Balkan Info, Балкан Инф...</td>\n",
       "      <td>307</td>\n",
       "      <td>660</td>\n",
       "      <td>69</td>\n",
       "      <td>0</td>\n",
       "      <td>32843</td>\n",
       "      <td>Slavko Nikić</td>\n",
       "      <td>Veterani neće ćutati o izdaji, spremni smo da ...</td>\n",
       "      <td>[veterani, neće, ćutati, o, izdaji, spremni, s...</td>\n",
       "      <td>[veterani neće, neće ćutati, ćutati o, o izdaj...</td>\n",
       "      <td>[veterani neće ćutati, neće ćutati o, ćutati o...</td>\n",
       "      <td>Slavko_Nikić</td>\n",
       "    </tr>\n",
       "    <tr>\n",
       "      <th>4</th>\n",
       "      <td>INTERVJU: Miroslav Lazanski - Srbija mora da s...</td>\n",
       "      <td>2018-03-02</td>\n",
       "      <td>[Balkan Info Intervju, Balkan Info, Балкан Инф...</td>\n",
       "      <td>334</td>\n",
       "      <td>765</td>\n",
       "      <td>395</td>\n",
       "      <td>0</td>\n",
       "      <td>51061</td>\n",
       "      <td>Miroslav Lazanski</td>\n",
       "      <td>Srbija mora da sačuva vojnu neutralnost i vrat...</td>\n",
       "      <td>[srbija, mora, da, sačuva, vojnu, neutralnost,...</td>\n",
       "      <td>[srbija mora, mora da, da sačuva, sačuva vojnu...</td>\n",
       "      <td>[srbija mora da, mora da sačuva, da sačuva voj...</td>\n",
       "      <td>Miroslav_Lazanski</td>\n",
       "    </tr>\n",
       "  </tbody>\n",
       "</table>\n",
       "</div>"
      ],
      "text/plain": [
       "                                               title  published  \\\n",
       "0  INTERVJU: Džon Bosnić - Globalističko carstvo ... 2018-03-06   \n",
       "1  INTERVJU: Momir Bulatović - Istorija će suditi... 2018-03-05   \n",
       "2  INTERVJU: Kaplan Burović - Mnogi su hteli da m... 2018-03-04   \n",
       "3  INTERVJU: Slavko Nikić - Veterani neće ćutati ... 2018-03-03   \n",
       "4  INTERVJU: Miroslav Lazanski - Srbija mora da s... 2018-03-02   \n",
       "\n",
       "                                                tags comments likes dislikes  \\\n",
       "0  [Balkan Info Intervju, Balkan Info, Балкан Инф...      194   527       24   \n",
       "1  [Balkan Info Intervju, Balkan Info, Балкан Инф...      271   658      105   \n",
       "2  [Balkan Info Intervju, Balkan Info, Балкан Инф...      208   680       39   \n",
       "3  [Balkan Info Intervju, Balkan Info, Балкан Инф...      307   660       69   \n",
       "4  [Balkan Info Intervju, Balkan Info, Балкан Инф...      334   765      395   \n",
       "\n",
       "  favourites  views         guest_name  \\\n",
       "0          0  13933        Džon Bosnić   \n",
       "1          0  38904    Momir Bulatović   \n",
       "2          0  40196     Kaplan Burović   \n",
       "3          0  32843       Slavko Nikić   \n",
       "4          0  51061  Miroslav Lazanski   \n",
       "\n",
       "                                               quote  \\\n",
       "0  Globalističko carstvo Amerike se sve više bliž...   \n",
       "1  Istorija će suditi Milu Đukanoviću zbog njegov...   \n",
       "2  Mnogi su hteli da me likvidiraju zato što sam ...   \n",
       "3  Veterani neće ćutati o izdaji, spremni smo da ...   \n",
       "4  Srbija mora da sačuva vojnu neutralnost i vrat...   \n",
       "\n",
       "                                              tokens  \\\n",
       "0  [globalističko, carstvo, amerike, se, sve, viš...   \n",
       "1  [istorija, će, suditi, milu, đukanoviću, zbog,...   \n",
       "2  [mnogi, su, hteli, da, me, likvidiraju, zato, ...   \n",
       "3  [veterani, neće, ćutati, o, izdaji, spremni, s...   \n",
       "4  [srbija, mora, da, sačuva, vojnu, neutralnost,...   \n",
       "\n",
       "                                              2_gram  \\\n",
       "0  [globalističko carstvo, carstvo amerike, ameri...   \n",
       "1  [istorija će, će suditi, suditi milu, milu đuk...   \n",
       "2  [mnogi su, su hteli, hteli da, da me, me likvi...   \n",
       "3  [veterani neće, neće ćutati, ćutati o, o izdaj...   \n",
       "4  [srbija mora, mora da, da sačuva, sačuva vojnu...   \n",
       "\n",
       "                                              3_gram          page_name  \n",
       "0  [globalističko carstvo amerike, carstvo amerik...        Džon_Bosnić  \n",
       "1  [istorija će suditi, će suditi milu, suditi mi...    Momir_Bulatović  \n",
       "2  [mnogi su hteli, su hteli da, hteli da me, da ...     Kaplan_Burović  \n",
       "3  [veterani neće ćutati, neće ćutati o, ćutati o...       Slavko_Nikić  \n",
       "4  [srbija mora da, mora da sačuva, da sačuva voj...  Miroslav_Lazanski  "
      ]
     },
     "execution_count": 26,
     "metadata": {},
     "output_type": "execute_result"
    }
   ],
   "source": [
    "data.head()"
   ]
  },
  {
   "cell_type": "code",
   "execution_count": 27,
   "metadata": {
    "collapsed": false
   },
   "outputs": [],
   "source": [
    "# len(data)"
   ]
  },
  {
   "cell_type": "code",
   "execution_count": 30,
   "metadata": {
    "collapsed": false
   },
   "outputs": [],
   "source": [
    "# pd.read_pickle(\"../data/videos_parsed\")"
   ]
  },
  {
   "cell_type": "code",
   "execution_count": null,
   "metadata": {
    "collapsed": true
   },
   "outputs": [],
   "source": []
  }
 ],
 "metadata": {
  "kernelspec": {
   "display_name": "Python 3",
   "language": "python",
   "name": "python3"
  },
  "language_info": {
   "codemirror_mode": {
    "name": "ipython",
    "version": 3
   },
   "file_extension": ".py",
   "mimetype": "text/x-python",
   "name": "python",
   "nbconvert_exporter": "python",
   "pygments_lexer": "ipython3",
   "version": "3.6.0"
  }
 },
 "nbformat": 4,
 "nbformat_minor": 2
}
