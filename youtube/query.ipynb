{
 "cells": [
  {
   "cell_type": "code",
   "execution_count": 144,
   "metadata": {
    "collapsed": false
   },
   "outputs": [],
   "source": [
    "from api_key import KEY\n",
    "from urllib.parse import urlencode\n",
    "import requests\n",
    "import json"
   ]
  },
  {
   "cell_type": "code",
   "execution_count": 145,
   "metadata": {
    "collapsed": false
   },
   "outputs": [],
   "source": [
    "# KEY"
   ]
  },
  {
   "cell_type": "code",
   "execution_count": 146,
   "metadata": {
    "collapsed": true
   },
   "outputs": [],
   "source": [
    "import yapi"
   ]
  },
  {
   "cell_type": "markdown",
   "metadata": {},
   "source": [
    "# Identificators"
   ]
  },
  {
   "cell_type": "code",
   "execution_count": 147,
   "metadata": {
    "collapsed": true
   },
   "outputs": [],
   "source": [
    "PLAYLIST_ID = 'PLQPfsdgAXeMlB0vNrePI1qfhjSt91yShn'"
   ]
  },
  {
   "cell_type": "markdown",
   "metadata": {},
   "source": [
    "# yAPI instance"
   ]
  },
  {
   "cell_type": "code",
   "execution_count": 6,
   "metadata": {
    "collapsed": true
   },
   "outputs": [],
   "source": [
    "api = yapi.YoutubeAPI(KEY)"
   ]
  },
  {
   "cell_type": "markdown",
   "metadata": {},
   "source": [
    "# Fetching playlist items"
   ]
  },
  {
   "cell_type": "code",
   "execution_count": 78,
   "metadata": {
    "collapsed": true
   },
   "outputs": [],
   "source": [
    "playlistItems = api.get_playlist_items_by_playlist_id(PLAYLIST_ID, max_results=50)"
   ]
  },
  {
   "cell_type": "code",
   "execution_count": 79,
   "metadata": {
    "collapsed": false
   },
   "outputs": [],
   "source": [
    "videos = vars(playlistItems)"
   ]
  },
  {
   "cell_type": "code",
   "execution_count": 83,
   "metadata": {
    "collapsed": false
   },
   "outputs": [
    {
     "data": {
      "text/plain": [
       "5"
      ]
     },
     "execution_count": 83,
     "metadata": {},
     "output_type": "execute_result"
    }
   ],
   "source": [
    "len(videos)"
   ]
  },
  {
   "cell_type": "code",
   "execution_count": 84,
   "metadata": {
    "collapsed": false
   },
   "outputs": [
    {
     "data": {
      "text/plain": [
       "dict_keys(['kind', 'etag', 'nextPageToken', 'pageInfo', 'items'])"
      ]
     },
     "execution_count": 84,
     "metadata": {},
     "output_type": "execute_result"
    }
   ],
   "source": [
    "videos.keys()"
   ]
  },
  {
   "cell_type": "code",
   "execution_count": 87,
   "metadata": {
    "collapsed": false
   },
   "outputs": [
    {
     "data": {
      "text/plain": [
       "50"
      ]
     },
     "execution_count": 87,
     "metadata": {},
     "output_type": "execute_result"
    }
   ],
   "source": [
    "len(videos[\"items\"])"
   ]
  },
  {
   "cell_type": "code",
   "execution_count": 88,
   "metadata": {
    "collapsed": false
   },
   "outputs": [
    {
     "data": {
      "text/plain": [
       "'CDIQAA'"
      ]
     },
     "execution_count": 88,
     "metadata": {},
     "output_type": "execute_result"
    }
   ],
   "source": [
    "videos['nextPageToken']"
   ]
  },
  {
   "cell_type": "code",
   "execution_count": 91,
   "metadata": {
    "collapsed": false
   },
   "outputs": [
    {
     "ename": "TypeError",
     "evalue": "get_playlist_items_by_playlist_id() got an unexpected keyword argument 'pageToken'",
     "output_type": "error",
     "traceback": [
      "\u001b[0;31m---------------------------------------------------------------------------\u001b[0m",
      "\u001b[0;31mTypeError\u001b[0m                                 Traceback (most recent call last)",
      "\u001b[0;32m<ipython-input-91-64e36d1b507f>\u001b[0m in \u001b[0;36m<module>\u001b[0;34m()\u001b[0m\n\u001b[0;32m----> 1\u001b[0;31m \u001b[0mplaylistItems\u001b[0m \u001b[1;33m=\u001b[0m \u001b[0mapi\u001b[0m\u001b[1;33m.\u001b[0m\u001b[0mget_playlist_items_by_playlist_id\u001b[0m\u001b[1;33m(\u001b[0m\u001b[0mPLAYLIST_ID\u001b[0m\u001b[1;33m,\u001b[0m \u001b[0mmax_results\u001b[0m\u001b[1;33m=\u001b[0m\u001b[1;36m20\u001b[0m\u001b[1;33m,\u001b[0m \u001b[0mpageToken\u001b[0m\u001b[1;33m=\u001b[0m\u001b[1;34m'CDIQAA'\u001b[0m\u001b[1;33m)\u001b[0m\u001b[1;33m\u001b[0m\u001b[0m\n\u001b[0m",
      "\u001b[0;31mTypeError\u001b[0m: get_playlist_items_by_playlist_id() got an unexpected keyword argument 'pageToken'"
     ]
    }
   ],
   "source": [
    "playlistItems = api.get_playlist_items_by_playlist_id(PLAYLIST_ID, max_results=20, pageToken='CDIQAA')"
   ]
  },
  {
   "cell_type": "code",
   "execution_count": 86,
   "metadata": {
    "collapsed": false
   },
   "outputs": [
    {
     "data": {
      "text/plain": [
       "dict_keys(['kind', 'etag', 'id', 'snippet', 'contentDetails', 'status'])"
      ]
     },
     "execution_count": 86,
     "metadata": {},
     "output_type": "execute_result"
    }
   ],
   "source": [
    "vars(videos[\"items\"][0]).keys()"
   ]
  },
  {
   "cell_type": "code",
   "execution_count": 31,
   "metadata": {
    "collapsed": false
   },
   "outputs": [
    {
     "data": {
      "text/plain": [
       "Namespace(videoId='xsSz-l8G-0Q', videoPublishedAt='2018-03-02T08:00:09.000Z')"
      ]
     },
     "execution_count": 31,
     "metadata": {},
     "output_type": "execute_result"
    }
   ],
   "source": [
    "vars(videos[\"items\"][0])[\"contentDetails\"]"
   ]
  },
  {
   "cell_type": "markdown",
   "metadata": {},
   "source": [
    "# Fetching video meta data"
   ]
  },
  {
   "cell_type": "code",
   "execution_count": 32,
   "metadata": {
    "collapsed": true
   },
   "outputs": [],
   "source": [
    "video = api.get_video_info('xsSz-l8G-0Q')"
   ]
  },
  {
   "cell_type": "code",
   "execution_count": 35,
   "metadata": {
    "collapsed": false
   },
   "outputs": [
    {
     "data": {
      "text/plain": [
       "dict_keys(['kind', 'etag', 'pageInfo', 'items'])"
      ]
     },
     "execution_count": 35,
     "metadata": {},
     "output_type": "execute_result"
    }
   ],
   "source": [
    "vars(video).keys()"
   ]
  },
  {
   "cell_type": "code",
   "execution_count": 45,
   "metadata": {
    "collapsed": false
   },
   "outputs": [
    {
     "data": {
      "text/plain": [
       "dict_keys(['kind', 'etag', 'id', 'snippet', 'contentDetails', 'status', 'statistics', 'player'])"
      ]
     },
     "execution_count": 45,
     "metadata": {},
     "output_type": "execute_result"
    }
   ],
   "source": [
    "vars(vars(video)[\"items\"][0]).keys()"
   ]
  },
  {
   "cell_type": "code",
   "execution_count": 62,
   "metadata": {
    "collapsed": false
   },
   "outputs": [
    {
     "data": {
      "text/plain": [
       "{'contentDetails': Namespace(caption='false', definition='hd', dimension='2d', duration='PT1H5M18S', licensedContent=True, projection='rectangular'),\n",
       " 'etag': '\"_gJQceDMxJ8gP-8T2HLXUoURK8c/YCTgOGNmL9b43Hs6L8Ls_TEcjcI\"',\n",
       " 'id': 'xsSz-l8G-0Q',\n",
       " 'kind': 'youtube#video',\n",
       " 'player': Namespace(embedHtml='<iframe width=\"480\" height=\"270\" src=\"//www.youtube.com/embed/xsSz-l8G-0Q\" frameborder=\"0\" allow=\"autoplay; encrypted-media\" allowfullscreen></iframe>'),\n",
       " 'snippet': Namespace(categoryId='22', channelId='UCLG5Qu54Q7gywaCeDs5etuQ', channelTitle='BALKAN INFO - Zvanični kanal', defaultAudioLanguage='sr', description='Gost emisije \"Intervju\" bio je gospodin Miroslav Lazanski, novinar i vojni analitičar. Diplomirao je na Pravnom fakultetu u Zagrebu, gde je i započeo novinarsku karijeru. Od 1991. godine prešao je u „Politiku“ gde i danas radi. Izveštavao je iz Sirije, Somalije, sa Krima, takođe izveštavao o ratovima u Avganistanu, Čečeniji, Kongu, Iraku, Iranu, Libanu, Jemenu i Libiji... Intervjuisao je dva vrhovna komandanta NATO-a, tri maršala SSSR, šefove KGB-a, KHAD-a, pedesetak ministara odbrane i načelnika generalštaba svetskih armija, između ostalog načelnike generalštaba ruske, kineske i japanske armije. Jedini jugoslovenski novinar koji je plovio u atomskoj podmornici, američkoj „Tautog\", leteo u avionu F-14, bio na nosaču aviona „Džon F. Kenedi\" i leteo u Migu 29. Bio je gost vojnih akademija Rusije, Japana, SAD, Australije, Italije, Velike Britanije, Nemačke, Rumunije... Preporučujemo Vam da pogledate ceo intervju i saznate više o brojnim zanimljivim temama.\\n\\nIntervju je snimljen 24.02.2018. godine u prostorijama, u Beogradu.\\n\\n*************************************************************\\n\\nPoštovani prijatelji,\\n\\nSvi koji verno pratite emisije i želite da pomognete rad produkcije od danas to možete učiniti iz Srbije i iz inostranstva. Trudićemo se da ostanemo dosledni našoj ideji o slobodnom novinarstvu i širenju istine bez cenzure.\\n\\nUnapred se zahvaljujemo na svakom prilogu koji će pomoći rad naše produkcije, ali isto tako predlažemo da nam pišete sve vaše želje, predloge i konkretne savete kako da učinimo emisije još boljim na našu email adresu office@balkaninfo.me\\n\\nSrdačan pozdrav,\\nBALKAN INFO tim\\n\\n*************************************************************\\n\\nUPLATE NA TEKUĆI RAČUN:\\n\\nKomercijalna Banka A.D. Beograd\\nBroj računa: 205-9001020467818-62\\n\\n*************************************************************\\n\\nUPLATE PUTEM INTERNETA:\\n\\nPaypal - www.paypal.com\\ntesatesanovic@yahoo.com\\n\\n*************************************************************', liveBroadcastContent='none', localized=Namespace(description='Gost emisije \"Intervju\" bio je gospodin Miroslav Lazanski, novinar i vojni analitičar. Diplomirao je na Pravnom fakultetu u Zagrebu, gde je i započeo novinarsku karijeru. Od 1991. godine prešao je u „Politiku“ gde i danas radi. Izveštavao je iz Sirije, Somalije, sa Krima, takođe izveštavao o ratovima u Avganistanu, Čečeniji, Kongu, Iraku, Iranu, Libanu, Jemenu i Libiji... Intervjuisao je dva vrhovna komandanta NATO-a, tri maršala SSSR, šefove KGB-a, KHAD-a, pedesetak ministara odbrane i načelnika generalštaba svetskih armija, između ostalog načelnike generalštaba ruske, kineske i japanske armije. Jedini jugoslovenski novinar koji je plovio u atomskoj podmornici, američkoj „Tautog\", leteo u avionu F-14, bio na nosaču aviona „Džon F. Kenedi\" i leteo u Migu 29. Bio je gost vojnih akademija Rusije, Japana, SAD, Australije, Italije, Velike Britanije, Nemačke, Rumunije... Preporučujemo Vam da pogledate ceo intervju i saznate više o brojnim zanimljivim temama.\\n\\nIntervju je snimljen 24.02.2018. godine u prostorijama, u Beogradu.\\n\\n*************************************************************\\n\\nPoštovani prijatelji,\\n\\nSvi koji verno pratite emisije i želite da pomognete rad produkcije od danas to možete učiniti iz Srbije i iz inostranstva. Trudićemo se da ostanemo dosledni našoj ideji o slobodnom novinarstvu i širenju istine bez cenzure.\\n\\nUnapred se zahvaljujemo na svakom prilogu koji će pomoći rad naše produkcije, ali isto tako predlažemo da nam pišete sve vaše želje, predloge i konkretne savete kako da učinimo emisije još boljim na našu email adresu office@balkaninfo.me\\n\\nSrdačan pozdrav,\\nBALKAN INFO tim\\n\\n*************************************************************\\n\\nUPLATE NA TEKUĆI RAČUN:\\n\\nKomercijalna Banka A.D. Beograd\\nBroj računa: 205-9001020467818-62\\n\\n*************************************************************\\n\\nUPLATE PUTEM INTERNETA:\\n\\nPaypal - www.paypal.com\\ntesatesanovic@yahoo.com\\n\\n*************************************************************', title='INTERVJU: Miroslav Lazanski - Srbija mora da sačuva vojnu neutralnost i vrati vojni rok! (2.3.2018)'), publishedAt='2018-03-02T08:00:09.000Z', tags=['Balkan Info Intervju', 'Balkan Info', 'Балкан Инфо', 'Теша Тешановић', 'Teša Tešanović', 'Tesa Tesanovic', 'Miroslav Lazanski', 'Vojni analitičar', 'Мирослав Лазански', 'Војни аналитичар'], thumbnails=Namespace(default=Namespace(height=90, url='https://i.ytimg.com/vi/xsSz-l8G-0Q/default.jpg', width=120), high=Namespace(height=360, url='https://i.ytimg.com/vi/xsSz-l8G-0Q/hqdefault.jpg', width=480), maxres=Namespace(height=720, url='https://i.ytimg.com/vi/xsSz-l8G-0Q/maxresdefault.jpg', width=1280), medium=Namespace(height=180, url='https://i.ytimg.com/vi/xsSz-l8G-0Q/mqdefault.jpg', width=320), standard=Namespace(height=480, url='https://i.ytimg.com/vi/xsSz-l8G-0Q/sddefault.jpg', width=640)), title='INTERVJU: Miroslav Lazanski - Srbija mora da sačuva vojnu neutralnost i vrati vojni rok! (2.3.2018)'),\n",
       " 'statistics': Namespace(commentCount='231', dislikeCount='290', favoriteCount='0', likeCount='547', viewCount='18526'),\n",
       " 'status': Namespace(embeddable=True, license='youtube', privacyStatus='public', publicStatsViewable=False, uploadStatus='processed')}"
      ]
     },
     "execution_count": 62,
     "metadata": {},
     "output_type": "execute_result"
    }
   ],
   "source": [
    "vars(vars(video)[\"items\"][0])"
   ]
  },
  {
   "cell_type": "code",
   "execution_count": 60,
   "metadata": {
    "collapsed": false
   },
   "outputs": [
    {
     "data": {
      "text/plain": [
       "Namespace(commentCount='231', dislikeCount='290', favoriteCount='0', likeCount='547', viewCount='18526')"
      ]
     },
     "execution_count": 60,
     "metadata": {},
     "output_type": "execute_result"
    }
   ],
   "source": [
    "vars(vars(video)[\"items\"][0])[\"statistics\"]"
   ]
  },
  {
   "cell_type": "code",
   "execution_count": 53,
   "metadata": {
    "collapsed": false
   },
   "outputs": [
    {
     "data": {
      "text/plain": [
       "dict_keys(['publishedAt', 'channelId', 'title', 'description', 'thumbnails', 'channelTitle', 'tags', 'categoryId', 'liveBroadcastContent', 'localized', 'defaultAudioLanguage'])"
      ]
     },
     "execution_count": 53,
     "metadata": {},
     "output_type": "execute_result"
    }
   ],
   "source": [
    "vars(vars(vars(video)[\"items\"][0])[\"snippet\"]).keys()"
   ]
  },
  {
   "cell_type": "code",
   "execution_count": 54,
   "metadata": {
    "collapsed": false
   },
   "outputs": [
    {
     "data": {
      "text/plain": [
       "'INTERVJU: Miroslav Lazanski - Srbija mora da sačuva vojnu neutralnost i vrati vojni rok! (2.3.2018)'"
      ]
     },
     "execution_count": 54,
     "metadata": {},
     "output_type": "execute_result"
    }
   ],
   "source": [
    "vars(vars(vars(video)[\"items\"][0])[\"snippet\"])[\"title\"]"
   ]
  },
  {
   "cell_type": "code",
   "execution_count": 58,
   "metadata": {
    "collapsed": false
   },
   "outputs": [],
   "source": [
    "# vars(vars(vars(video)[\"items\"][0])[\"snippet\"])[\"description\"]"
   ]
  },
  {
   "cell_type": "code",
   "execution_count": 63,
   "metadata": {
    "collapsed": false
   },
   "outputs": [
    {
     "data": {
      "text/plain": [
       "'2018-03-02T08:00:09.000Z'"
      ]
     },
     "execution_count": 63,
     "metadata": {},
     "output_type": "execute_result"
    }
   ],
   "source": [
    "vars(vars(vars(video)[\"items\"][0])[\"snippet\"])[\"publishedAt\"]"
   ]
  },
  {
   "cell_type": "code",
   "execution_count": 64,
   "metadata": {
    "collapsed": false
   },
   "outputs": [
    {
     "data": {
      "text/plain": [
       "str"
      ]
     },
     "execution_count": 64,
     "metadata": {},
     "output_type": "execute_result"
    }
   ],
   "source": [
    "type(vars(vars(vars(video)[\"items\"][0])[\"snippet\"])[\"publishedAt\"])"
   ]
  },
  {
   "cell_type": "code",
   "execution_count": 68,
   "metadata": {
    "collapsed": false
   },
   "outputs": [],
   "source": [
    "from datetime import datetime\n",
    "\n",
    "datetime_object = datetime.strptime(vars(vars(vars(video)[\"items\"][0])[\"snippet\"])[\"publishedAt\"].split(\"T\")[0], '%Y-%m-%d')"
   ]
  },
  {
   "cell_type": "code",
   "execution_count": 69,
   "metadata": {
    "collapsed": false
   },
   "outputs": [
    {
     "data": {
      "text/plain": [
       "datetime.datetime(2018, 3, 2, 0, 0)"
      ]
     },
     "execution_count": 69,
     "metadata": {},
     "output_type": "execute_result"
    }
   ],
   "source": [
    "datetime_object"
   ]
  },
  {
   "cell_type": "code",
   "execution_count": 92,
   "metadata": {
    "collapsed": true
   },
   "outputs": [],
   "source": [
    "import requests "
   ]
  },
  {
   "cell_type": "code",
   "execution_count": 105,
   "metadata": {
    "collapsed": false
   },
   "outputs": [],
   "source": [
    "url = \"https://www.googleapis.com/youtube/v3/playlistItems\"\n",
    "from urllib.parse import urlencode\n",
    "# params[\"key\"] = KEY\n",
    "params = {\n",
    "            'playlistId': PLAYLIST_ID,\n",
    "            'part': 'id, snippet, contentDetails, status',\n",
    "            'maxResults': 50,\n",
    "            'key': KEY\n",
    "        }\n",
    "# urllib.urllib.urlencode"
   ]
  },
  {
   "cell_type": "code",
   "execution_count": 106,
   "metadata": {
    "collapsed": true
   },
   "outputs": [],
   "source": [
    "url = url+\"?\"+urlencode(params)"
   ]
  },
  {
   "cell_type": "code",
   "execution_count": 108,
   "metadata": {
    "collapsed": false
   },
   "outputs": [],
   "source": [
    "r = requests.get(url)"
   ]
  },
  {
   "cell_type": "code",
   "execution_count": 117,
   "metadata": {
    "collapsed": false
   },
   "outputs": [
    {
     "data": {
      "text/plain": [
       "dict_keys(['kind', 'etag', 'nextPageToken', 'pageInfo', 'items'])"
      ]
     },
     "execution_count": 117,
     "metadata": {},
     "output_type": "execute_result"
    }
   ],
   "source": [
    "import json\n",
    "json.loads(r.text).keys()"
   ]
  },
  {
   "cell_type": "code",
   "execution_count": 118,
   "metadata": {
    "collapsed": false
   },
   "outputs": [
    {
     "data": {
      "text/plain": [
       "'CDIQAA'"
      ]
     },
     "execution_count": 118,
     "metadata": {},
     "output_type": "execute_result"
    }
   ],
   "source": [
    "json.loads(r.text)[\"nextPageToken\"]"
   ]
  },
  {
   "cell_type": "code",
   "execution_count": 119,
   "metadata": {
    "collapsed": false
   },
   "outputs": [
    {
     "data": {
      "text/plain": [
       "dict_keys(['kind', 'etag', 'id', 'snippet', 'contentDetails', 'status'])"
      ]
     },
     "execution_count": 119,
     "metadata": {},
     "output_type": "execute_result"
    }
   ],
   "source": [
    "json.loads(r.text)[\"items\"][0].keys()"
   ]
  },
  {
   "cell_type": "code",
   "execution_count": 124,
   "metadata": {
    "collapsed": false
   },
   "outputs": [
    {
     "data": {
      "text/plain": [
       "'UExRUGZzZGdBWGVNbEIwdk5yZVBJMXFmaGpTdDkxeVNobi5DN0Y5ODNGRkJDMEIwNDZB'"
      ]
     },
     "execution_count": 124,
     "metadata": {},
     "output_type": "execute_result"
    }
   ],
   "source": [
    "json.loads(r.text)[\"items\"][0][\"id\"]"
   ]
  },
  {
   "cell_type": "code",
   "execution_count": 125,
   "metadata": {
    "collapsed": true
   },
   "outputs": [],
   "source": [
    "url = \"https://www.googleapis.com/youtube/v3/playlistItems\"\n",
    "from urllib.parse import urlencode\n",
    "# params[\"key\"] = KEY\n",
    "params = {\n",
    "            'playlistId': PLAYLIST_ID,\n",
    "            'part': 'id, snippet, contentDetails, status',\n",
    "            'maxResults': 50,\n",
    "            'key': KEY,\n",
    "        }"
   ]
  },
  {
   "cell_type": "code",
   "execution_count": 126,
   "metadata": {
    "collapsed": true
   },
   "outputs": [],
   "source": [
    "url = url+\"?\"+urlencode(params)"
   ]
  },
  {
   "cell_type": "code",
   "execution_count": 127,
   "metadata": {
    "collapsed": true
   },
   "outputs": [],
   "source": [
    "r = requests.get(url)"
   ]
  },
  {
   "cell_type": "code",
   "execution_count": 130,
   "metadata": {
    "collapsed": false
   },
   "outputs": [
    {
     "data": {
      "text/plain": [
       "'UExRUGZzZGdBWGVNbEIwdk5yZVBJMXFmaGpTdDkxeVNobi4wRUE3MkE2QzM5M0M3RUMx'"
      ]
     },
     "execution_count": 130,
     "metadata": {},
     "output_type": "execute_result"
    }
   ],
   "source": [
    "json.loads(r.text)[\"items\"][0][\"id\"]"
   ]
  },
  {
   "cell_type": "code",
   "execution_count": 181,
   "metadata": {
    "collapsed": true
   },
   "outputs": [],
   "source": [
    "def handle_response(url, params_dict):\n",
    "    \"\"\" Sends request with specified params, returns list of items and nextPageToken\n",
    "    \"\"\"\n",
    "    url = url+\"?\"+urlencode(params_dict)\n",
    "    resp = requests.get(url)\n",
    "#     print(resp)\n",
    "    response_dict = json.loads(resp.text)\n",
    "    if \"nextPageToken\" in response_dict:\n",
    "        return_dict = {\n",
    "            \"items\": response_dict[\"items\"],\n",
    "            \"nextPageToken\": response_dict[\"nextPageToken\"]\n",
    "        }\n",
    "    else: \n",
    "        return_dict = {\n",
    "            \"items\": response_dict[\"items\"],\n",
    "            \"nextPageToken\": None\n",
    "        }\n",
    "    return return_dict"
   ]
  },
  {
   "cell_type": "code",
   "execution_count": 184,
   "metadata": {
    "collapsed": false
   },
   "outputs": [],
   "source": [
    "def get_all_playlist_items(params_dict):\n",
    "    \"\"\" Returns all video ID's from specified Play List\n",
    "    \"\"\"\n",
    "    item_ids = []\n",
    "    stop = False\n",
    "    while stop == False:\n",
    "        url = \"https://www.googleapis.com/youtube/v3/playlistItems\"\n",
    "        if item_ids == []:\n",
    "            response = handle_response(url, params_dict)\n",
    "            for item in response[\"items\"]:\n",
    "                item_ids.append(item[\"id\"])\n",
    "            npt = response[\"nextPageToken\"]\n",
    "            print(\"FIRST NPT: {}\".format(npt))\n",
    "        else: \n",
    "            params_dict[\"pageToken\"] = npt\n",
    "            response = handle_response(url, params_dict)\n",
    "            for item in response[\"items\"]:\n",
    "                item_ids.append(item[\"id\"])\n",
    "            npt = response[\"nextPageToken\"]\n",
    "            print(\"NPT: {}\".format(npt))\n",
    "            print(len(response[\"items\"]))\n",
    "            if npt == None:\n",
    "                stop = True\n",
    "    return item_ids"
   ]
  },
  {
   "cell_type": "code",
   "execution_count": 186,
   "metadata": {
    "collapsed": false
   },
   "outputs": [
    {
     "name": "stdout",
     "output_type": "stream",
     "text": [
      "FIRST NPT: CDIQAA\n",
      "NPT: CGQQAA\n",
      "50\n",
      "NPT: CJYBEAA\n",
      "50\n",
      "NPT: CMgBEAA\n",
      "50\n",
      "NPT: CPoBEAA\n",
      "50\n",
      "NPT: CKwCEAA\n",
      "50\n",
      "NPT: CN4CEAA\n",
      "50\n",
      "NPT: CJADEAA\n",
      "50\n",
      "NPT: CMIDEAA\n",
      "50\n",
      "NPT: None\n",
      "22\n"
     ]
    },
    {
     "data": {
      "text/plain": [
       "472"
      ]
     },
     "execution_count": 186,
     "metadata": {},
     "output_type": "execute_result"
    }
   ],
   "source": [
    "params = {\n",
    "            'playlistId': PLAYLIST_ID,\n",
    "            'part': 'id, snippet, contentDetails, status',\n",
    "            'maxResults': 50,\n",
    "            'key': KEY,\n",
    "        }\n",
    "len(get_all_playlist_items(params))"
   ]
  },
  {
   "cell_type": "code",
   "execution_count": null,
   "metadata": {
    "collapsed": true
   },
   "outputs": [],
   "source": []
  },
  {
   "cell_type": "code",
   "execution_count": null,
   "metadata": {
    "collapsed": true
   },
   "outputs": [],
   "source": []
  }
 ],
 "metadata": {
  "kernelspec": {
   "display_name": "Python 3",
   "language": "python",
   "name": "python3"
  },
  "language_info": {
   "codemirror_mode": {
    "name": "ipython",
    "version": 3
   },
   "file_extension": ".py",
   "mimetype": "text/x-python",
   "name": "python",
   "nbconvert_exporter": "python",
   "pygments_lexer": "ipython3",
   "version": "3.6.0"
  }
 },
 "nbformat": 4,
 "nbformat_minor": 2
}
