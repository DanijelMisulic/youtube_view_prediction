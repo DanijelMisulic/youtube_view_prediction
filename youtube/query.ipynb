{
 "cells": [
  {
   "cell_type": "code",
   "execution_count": 32,
   "metadata": {
    "collapsed": false
   },
   "outputs": [],
   "source": [
    "from api_key import KEY\n",
    "from urllib.parse import urlencode\n",
    "import requests\n",
    "import json\n",
    "from datetime import datetime\n",
    "import tqdm\n",
    "import time\n",
    "import pandas as pd "
   ]
  },
  {
   "cell_type": "code",
   "execution_count": 2,
   "metadata": {
    "collapsed": false
   },
   "outputs": [],
   "source": [
    "# KEY"
   ]
  },
  {
   "cell_type": "code",
   "execution_count": 3,
   "metadata": {
    "collapsed": true
   },
   "outputs": [],
   "source": [
    "import yapi"
   ]
  },
  {
   "cell_type": "markdown",
   "metadata": {},
   "source": [
    "# Identificators"
   ]
  },
  {
   "cell_type": "code",
   "execution_count": 4,
   "metadata": {
    "collapsed": true
   },
   "outputs": [],
   "source": [
    "PLAYLIST_ID = 'PLQPfsdgAXeMlB0vNrePI1qfhjSt91yShn'"
   ]
  },
  {
   "cell_type": "markdown",
   "metadata": {},
   "source": [
    "# yAPI instance"
   ]
  },
  {
   "cell_type": "code",
   "execution_count": 5,
   "metadata": {
    "collapsed": true
   },
   "outputs": [],
   "source": [
    "api = yapi.YoutubeAPI(KEY)"
   ]
  },
  {
   "cell_type": "markdown",
   "metadata": {},
   "source": [
    "# Fetching playlist items"
   ]
  },
  {
   "cell_type": "code",
   "execution_count": 6,
   "metadata": {
    "collapsed": false
   },
   "outputs": [],
   "source": [
    "# videos = vars(playlistItems)"
   ]
  },
  {
   "cell_type": "code",
   "execution_count": 7,
   "metadata": {
    "collapsed": false
   },
   "outputs": [],
   "source": [
    "# len(videos)"
   ]
  },
  {
   "cell_type": "code",
   "execution_count": 8,
   "metadata": {
    "collapsed": false
   },
   "outputs": [],
   "source": [
    "# videos.keys()"
   ]
  },
  {
   "cell_type": "code",
   "execution_count": 9,
   "metadata": {
    "collapsed": false
   },
   "outputs": [],
   "source": [
    "# len(videos[\"items\"])"
   ]
  },
  {
   "cell_type": "code",
   "execution_count": 10,
   "metadata": {
    "collapsed": false
   },
   "outputs": [],
   "source": [
    "# videos['nextPageToken']"
   ]
  },
  {
   "cell_type": "code",
   "execution_count": 11,
   "metadata": {
    "collapsed": false
   },
   "outputs": [],
   "source": [
    "# playlistItems = api.get_playlist_items_by_playlist_id(PLAYLIST_ID, max_results=20, pageToken='CDIQAA')"
   ]
  },
  {
   "cell_type": "code",
   "execution_count": 12,
   "metadata": {
    "collapsed": false
   },
   "outputs": [],
   "source": [
    "# vars(videos[\"items\"][0]).keys()"
   ]
  },
  {
   "cell_type": "code",
   "execution_count": 13,
   "metadata": {
    "collapsed": false
   },
   "outputs": [],
   "source": [
    "# vars(videos[\"items\"][0])[\"contentDetails\"]"
   ]
  },
  {
   "cell_type": "code",
   "execution_count": 14,
   "metadata": {
    "collapsed": true
   },
   "outputs": [],
   "source": [
    "def handle_response(url, params_dict):\n",
    "    \"\"\" Sends request with specified params, returns list of items and nextPageToken\n",
    "    \"\"\"\n",
    "    url = url+\"?\"+urlencode(params_dict)\n",
    "    resp = requests.get(url)\n",
    "#     print(resp)\n",
    "    response_dict = json.loads(resp.text)\n",
    "    if \"nextPageToken\" in response_dict:\n",
    "        return_dict = {\n",
    "            \"items\": response_dict[\"items\"],\n",
    "            \"nextPageToken\": response_dict[\"nextPageToken\"]\n",
    "        }\n",
    "    else: \n",
    "        return_dict = {\n",
    "            \"items\": response_dict[\"items\"],\n",
    "            \"nextPageToken\": None\n",
    "        }\n",
    "    return return_dict"
   ]
  },
  {
   "cell_type": "code",
   "execution_count": 15,
   "metadata": {
    "collapsed": false
   },
   "outputs": [],
   "source": [
    "def get_all_playlist_items(params_dict):\n",
    "    \"\"\" Returns all video ID's from specified Play List\n",
    "    \"\"\"\n",
    "    item_ids = []\n",
    "    stop = False\n",
    "    while stop == False:\n",
    "        url = \"https://www.googleapis.com/youtube/v3/playlistItems\"\n",
    "        if item_ids == []:\n",
    "            response = handle_response(url, params_dict)\n",
    "            for item in response[\"items\"]:\n",
    "                item_ids.append(item[\"contentDetails\"]['videoId'])\n",
    "#                 print(item[\"contentDetails\"]['videoId'])\n",
    "            npt = response[\"nextPageToken\"]\n",
    "            print(\"FIRST NPT: {}\".format(npt))\n",
    "        else: \n",
    "            params_dict[\"pageToken\"] = npt\n",
    "            response = handle_response(url, params_dict)\n",
    "            for item in response[\"items\"]:\n",
    "                item_ids.append(item[\"contentDetails\"]['videoId'])\n",
    "            npt = response[\"nextPageToken\"]\n",
    "            print(\"NPT: {}\".format(npt))\n",
    "            print(len(response[\"items\"]))\n",
    "            if npt == None:\n",
    "                stop = True\n",
    "    return item_ids"
   ]
  },
  {
   "cell_type": "code",
   "execution_count": 16,
   "metadata": {
    "collapsed": false
   },
   "outputs": [
    {
     "name": "stdout",
     "output_type": "stream",
     "text": [
      "FIRST NPT: CDIQAA\n",
      "NPT: CGQQAA\n",
      "50\n",
      "NPT: CJYBEAA\n",
      "50\n",
      "NPT: CMgBEAA\n",
      "50\n",
      "NPT: CPoBEAA\n",
      "50\n",
      "NPT: CKwCEAA\n",
      "50\n",
      "NPT: CN4CEAA\n",
      "50\n",
      "NPT: CJADEAA\n",
      "50\n",
      "NPT: CMIDEAA\n",
      "50\n",
      "NPT: None\n",
      "25\n"
     ]
    }
   ],
   "source": [
    "params = {\n",
    "            'playlistId': PLAYLIST_ID,\n",
    "            'part': 'id, snippet, contentDetails, status',\n",
    "            'maxResults': 50,\n",
    "            'key': KEY,\n",
    "        }\n",
    "video_ids = get_all_playlist_items(params)"
   ]
  },
  {
   "cell_type": "markdown",
   "metadata": {},
   "source": [
    "# Fetching video meta data"
   ]
  },
  {
   "cell_type": "code",
   "execution_count": 17,
   "metadata": {
    "collapsed": true
   },
   "outputs": [],
   "source": [
    "# video = api.get_video_info('xsSz-l8G-0Q')"
   ]
  },
  {
   "cell_type": "code",
   "execution_count": 18,
   "metadata": {
    "collapsed": false
   },
   "outputs": [],
   "source": [
    "# vars(video).keys()"
   ]
  },
  {
   "cell_type": "code",
   "execution_count": 19,
   "metadata": {
    "collapsed": false
   },
   "outputs": [],
   "source": [
    "# vars(video)"
   ]
  },
  {
   "cell_type": "code",
   "execution_count": 20,
   "metadata": {
    "collapsed": false
   },
   "outputs": [],
   "source": [
    "# vars(vars(video)[\"items\"][0])"
   ]
  },
  {
   "cell_type": "code",
   "execution_count": 21,
   "metadata": {
    "collapsed": false
   },
   "outputs": [],
   "source": [
    "# url = \"https://www.googleapis.com/youtube/v3/videos\" \n",
    "# params = {\n",
    "#             'id': video_ids[0],\n",
    "#             'part': 'id, snippet, contentDetails, player, statistics, status',\n",
    "#             'key': KEY,\n",
    "#         }\n",
    "# url = url + \"?\" + urlencode(params)\n",
    "# resp = requests.get(url)"
   ]
  },
  {
   "cell_type": "code",
   "execution_count": 22,
   "metadata": {
    "collapsed": false
   },
   "outputs": [],
   "source": [
    "# response_dict = json.loads(resp.text)\n",
    "# print(response_dict.keys())\n",
    "# print(response_dict[\"kind\"])\n",
    "# print(response_dict[\"pageInfo\"])\n",
    "# print(response_dict[\"items\"][0].keys())"
   ]
  },
  {
   "cell_type": "code",
   "execution_count": 23,
   "metadata": {
    "collapsed": false
   },
   "outputs": [],
   "source": [
    "# response_dict[\"items\"][0][\"statistics\"]"
   ]
  },
  {
   "cell_type": "code",
   "execution_count": 24,
   "metadata": {
    "collapsed": false
   },
   "outputs": [],
   "source": [
    "# response_dict[\"items\"][0][\"snippet\"].keys()"
   ]
  },
  {
   "cell_type": "code",
   "execution_count": 25,
   "metadata": {
    "collapsed": false
   },
   "outputs": [],
   "source": [
    "# response_dict[\"items\"][0][\"snippet\"][\"publishedAt\"]"
   ]
  },
  {
   "cell_type": "code",
   "execution_count": 26,
   "metadata": {
    "collapsed": false
   },
   "outputs": [],
   "source": [
    "# response_dict[\"items\"][0][\"snippet\"][\"title\"]\n"
   ]
  },
  {
   "cell_type": "code",
   "execution_count": 27,
   "metadata": {
    "collapsed": false
   },
   "outputs": [],
   "source": [
    "# response_dict[\"items\"][0][\"snippet\"][\"description\"]"
   ]
  },
  {
   "cell_type": "code",
   "execution_count": 28,
   "metadata": {
    "collapsed": false
   },
   "outputs": [],
   "source": [
    "# vars(vars(video)[\"items\"][0])[\"statistics\"]"
   ]
  },
  {
   "cell_type": "code",
   "execution_count": 29,
   "metadata": {
    "collapsed": false
   },
   "outputs": [],
   "source": [
    "# response_dict[\"items\"][0][\"snippet\"][\"tags\"]"
   ]
  },
  {
   "cell_type": "code",
   "execution_count": 35,
   "metadata": {
    "collapsed": false
   },
   "outputs": [],
   "source": [
    "def save_video_metadata(key, video_ids, path_pickle, path_responses):\n",
    "    \"\"\" Returns a dataframe with metadata and saves all responses in a json file \n",
    "    \"\"\"\n",
    "#     print(key)\n",
    "    resp_lst = []\n",
    "    endpoint = \"https://www.googleapis.com/youtube/v3/videos\" \n",
    "    metadata_lst = []\n",
    "    for video_id in tqdm.tqdm(video_ids):\n",
    "        params = {\n",
    "                    'id': video_id,\n",
    "                    'part': 'id, snippet, contentDetails, player, statistics, status',\n",
    "                    'key': key,\n",
    "                }\n",
    "#         print(params)\n",
    "        url = endpoint + \"?\" + urlencode(params)\n",
    "#         print(url)\n",
    "#         time.sleep(0.5)\n",
    "        resp = requests.get(url)\n",
    "        response_dict = json.loads(resp.text)\n",
    "        resp_lst.append(response_dict)\n",
    "#         print(response_dict.keys())\n",
    "        title = response_dict[\"items\"][0][\"snippet\"][\"title\"]\n",
    "        stats = response_dict[\"items\"][0][\"statistics\"]\n",
    "        comments = stats['commentCount']\n",
    "        dislikes = stats['dislikeCount']\n",
    "        favourites = stats['favoriteCount']\n",
    "        likes = stats['likeCount']\n",
    "        views = stats['viewCount']\n",
    "        tags = response_dict[\"items\"][0][\"snippet\"][\"tags\"]\n",
    "        published = datetime.strptime(response_dict[\"items\"][0][\"snippet\"][\"publishedAt\"].split(\"T\")[0], '%Y-%m-%d')\n",
    "        sub_lst = [title, published, tags, comments, likes, dislikes, favourites, views]\n",
    "        metadata_lst.append(sub_lst)\n",
    "    df = pd.DataFrame(metadata_lst)\n",
    "    df.columns = [\"title\", \"published\", \"tags\", \"comments\", \"likes\", \"dislikes\", \"favourites\", \"views\"]\n",
    "    df.to_pickle(path_pickle)\n",
    "    print(\"Pickle saved at {}\".format(path_pickle))\n",
    "    with open(path_responses, 'w') as outfile:\n",
    "        json.dump(resp_lst, outfile)\n",
    "    print(\"Responses saved at {}\".format(path_responses))"
   ]
  },
  {
   "cell_type": "code",
   "execution_count": 36,
   "metadata": {
    "collapsed": false
   },
   "outputs": [
    {
     "name": "stderr",
     "output_type": "stream",
     "text": [
      "100%|██████████████████████████████████████████████████████████████████████████████████████████████████████| 475/475 [01:55<00:00,  4.25it/s]\n"
     ]
    },
    {
     "name": "stdout",
     "output_type": "stream",
     "text": [
      "Pickle saved at ../data/videos\n",
      "Responses saved at ../data/videos_raw.json\n"
     ]
    }
   ],
   "source": [
    "save_video_metadata(KEY, video_ids, \"../data/videos\", \"../data/videos_raw.json\")"
   ]
  },
  {
   "cell_type": "code",
   "execution_count": 40,
   "metadata": {
    "collapsed": false
   },
   "outputs": [],
   "source": [
    "# video_ids"
   ]
  },
  {
   "cell_type": "code",
   "execution_count": 39,
   "metadata": {
    "collapsed": false
   },
   "outputs": [],
   "source": [
    "# pd.read_json(\"../data/json\")"
   ]
  },
  {
   "cell_type": "code",
   "execution_count": null,
   "metadata": {
    "collapsed": true
   },
   "outputs": [],
   "source": []
  }
 ],
 "metadata": {
  "kernelspec": {
   "display_name": "Python 3",
   "language": "python",
   "name": "python3"
  },
  "language_info": {
   "codemirror_mode": {
    "name": "ipython",
    "version": 3
   },
   "file_extension": ".py",
   "mimetype": "text/x-python",
   "name": "python",
   "nbconvert_exporter": "python",
   "pygments_lexer": "ipython3",
   "version": "3.6.0"
  }
 },
 "nbformat": 4,
 "nbformat_minor": 2
}
